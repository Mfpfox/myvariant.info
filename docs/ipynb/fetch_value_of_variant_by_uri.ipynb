{
 "cells": [
  {
   "cell_type": "code",
   "execution_count": 1,
   "metadata": {
    "collapsed": true
   },
   "outputs": [],
   "source": [
    "import json\n",
    "from pyld import jsonld\n",
    "import myvariant"
   ]
  },
  {
   "cell_type": "code",
   "execution_count": 2,
   "metadata": {
    "collapsed": true
   },
   "outputs": [],
   "source": [
    "# import MyVariantInfo class\n",
    "mv = myvariant.MyVariantInfo()"
   ]
  },
  {
   "cell_type": "code",
   "execution_count": 3,
   "metadata": {
    "collapsed": true
   },
   "outputs": [],
   "source": [
    "# list uris that belong to top level data sources\n",
    "top_level_uris = [\n",
    "      \"http://schema.myvariant.info/datasource/cadd\",\n",
    "      \"http://schema.myvariant.info/datasource/clinvar\",\n",
    "      \"http://schema.myvariant.info/datasource/dbnsfp\",\n",
    "      \"http://schema.myvariant.info/datasource/dbsnp\",\n",
    "      \"http://schema.myvariant.info/datasource/docm\",\n",
    "      \"http://schema.myvariant.info/datasource/emv\",\n",
    "      \"http://schema.myvariant.info/datasource/evs\",\n",
    "      \"http://schema.myvariant.info/datasource/gwassnps\",\n",
    "      \"http://schema.myvariant.info/datasource/mutdb\",\n",
    "      \"http://schema.myvariant.info/datasource/snpeff\"]"
   ]
  },
  {
   "cell_type": "code",
   "execution_count": 4,
   "metadata": {
    "collapsed": true
   },
   "outputs": [],
   "source": [
    "# transform from jsonld doc to nquads doc\n",
    "def nquads_transform(doc):\n",
    "    t = jsonld.JsonLdProcessor()\n",
    "    nquads = t.parse_nquads(jsonld.to_rdf(doc, {'format': 'application/nquads'}))['@default']\n",
    "    return nquads"
   ]
  },
  {
   "cell_type": "code",
   "execution_count": 5,
   "metadata": {
    "collapsed": true
   },
   "outputs": [],
   "source": [
    "# get value and node\n",
    "def get_value_and_node(nquads, uri):\n",
    "    node_list = []\n",
    "    value_list = []\n",
    "    for item in nquads:\n",
    "        if item['predicate']['value'] == uri:\n",
    "            node_list.append(item['subject']['value'])\n",
    "            value_list.append(item['object']['value'])\n",
    "    return (node_list, value_list)"
   ]
  },
  {
   "cell_type": "code",
   "execution_count": 6,
   "metadata": {
    "collapsed": true
   },
   "outputs": [],
   "source": [
    "def find_top_level_uri(nquads_id, nquads):\n",
    "    for item in nquads:\n",
    "        if item['object']['value'] == nquads_id:\n",
    "            if item['predicate']['value'] in top_level_uris:\n",
    "                uri = item['predicate']['value']\n",
    "            elif item['predicate']['value'] not in top_level_uris:\n",
    "                uri = find_top_level_uri(item['subject']['value'], nquads)\n",
    "            else:\n",
    "                print(\"couldn't find top level uri\")\n",
    "    return uri"
   ]
  },
  {
   "cell_type": "code",
   "execution_count": 7,
   "metadata": {
    "collapsed": true
   },
   "outputs": [],
   "source": [
    "def fetch_value_source_for_variant(_id, uri):\n",
    "    doc = mv.getvariant(_id, jsonld=True)\n",
    "    nquads = nquads_transform(doc)\n",
    "    (node, value) = get_value_and_node(nquads,uri)\n",
    "    source = []\n",
    "    for item in node:\n",
    "        source.append(find_top_level_uri(item, nquads))\n",
    "    result = [i + ' ' + j for i,j in zip(value, source)]\n",
    "    return result"
   ]
  },
  {
   "cell_type": "code",
   "execution_count": 8,
   "metadata": {
    "collapsed": false
   },
   "outputs": [
    {
     "data": {
      "text/plain": [
       "['109800 http://schema.myvariant.info/datasource/clinvar']"
      ]
     },
     "execution_count": 8,
     "metadata": {},
     "output_type": "execute_result"
    }
   ],
   "source": [
    "# Making Data-structure Neutral Queries by URI\n",
    "fetch_value_source_for_variant('chr9:g.135781006_135781007del',\n",
    "                               'http://identifiers.org/omim/')"
   ]
  },
  {
   "cell_type": "code",
   "execution_count": 9,
   "metadata": {
    "collapsed": false
   },
   "outputs": [
    {
     "data": {
      "text/plain": [
       "['rs200387971 http://schema.myvariant.info/datasource/evs',\n",
       " 'rs371405579 http://schema.myvariant.info/datasource/clinvar',\n",
       " 'rs371405579 http://schema.myvariant.info/datasource/dbsnp']"
      ]
     },
     "execution_count": 9,
     "metadata": {},
     "output_type": "execute_result"
    }
   ],
   "source": [
    "# Data Discrepancy Check\n",
    "fetch_value_source_for_variant('chr12:g.111351981C>T',\n",
    "                               'http://identifiers.org/dbsnp/')"
   ]
  },
  {
   "cell_type": "code",
   "execution_count": 10,
   "metadata": {
    "collapsed": false
   },
   "outputs": [
    {
     "data": {
      "text/plain": [
       "{'_id': 'chr9:g.135781006_135781007del',\n",
       " '_version': 1,\n",
       " 'clinvar': {'rcv': {'conditions': {'identifiers': {'omim': '109800'}}}}}"
      ]
     },
     "execution_count": 10,
     "metadata": {},
     "output_type": "execute_result"
    }
   ],
   "source": [
    "# normal query for OMIM ID by myvariant.info python client\n",
    "mv.getvariant('chr9:g.135781006_135781007del', \n",
    "              fields='clinvar.rcv.conditions.identifiers.omim')"
   ]
  },
  {
   "cell_type": "code",
   "execution_count": null,
   "metadata": {
    "collapsed": true
   },
   "outputs": [],
   "source": []
  }
 ],
 "metadata": {
  "kernelspec": {
   "display_name": "Python 3",
   "language": "python",
   "name": "python3"
  },
  "language_info": {
   "codemirror_mode": {
    "name": "ipython",
    "version": 3
   },
   "file_extension": ".py",
   "mimetype": "text/x-python",
   "name": "python",
   "nbconvert_exporter": "python",
   "pygments_lexer": "ipython3",
   "version": "3.5.0"
  }
 },
 "nbformat": 4,
 "nbformat_minor": 0
}
